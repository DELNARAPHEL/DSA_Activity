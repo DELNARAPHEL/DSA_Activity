{
 "cells": [
  {
   "cell_type": "markdown",
   "id": "7818834c",
   "metadata": {},
   "source": [
    "# Q&A Activity Question Week -09"
   ]
  },
  {
   "cell_type": "code",
   "execution_count": 1,
   "id": "a2789bcd",
   "metadata": {},
   "outputs": [],
   "source": [
    "#importing the relevant libraries"
   ]
  },
  {
   "cell_type": "code",
   "execution_count": 2,
   "id": "efcda8d6",
   "metadata": {},
   "outputs": [],
   "source": [
    "import numpy as np\n",
    "import pandas as pd\n",
    "import matplotlib.pyplot as plt\n",
    "import seaborn as sns"
   ]
  },
  {
   "cell_type": "code",
   "execution_count": 3,
   "id": "9d8a6825",
   "metadata": {},
   "outputs": [],
   "source": [
    "#reading the data \n",
    "advertising_data=pd.read_csv(r'C:/Users/DELNA.RAPHEL/Desktop/DSA/Assignment_week_09/Activity/Advertising.csv')"
   ]
  },
  {
   "cell_type": "markdown",
   "id": "1e47b92a",
   "metadata": {},
   "source": [
    "###### 1. Explain the dataset"
   ]
  },
  {
   "cell_type": "code",
   "execution_count": 4,
   "id": "62230753",
   "metadata": {},
   "outputs": [
    {
     "name": "stdout",
     "output_type": "stream",
     "text": [
      "<class 'pandas.core.frame.DataFrame'>\n",
      "RangeIndex: 200 entries, 0 to 199\n",
      "Data columns (total 5 columns):\n",
      " #   Column      Non-Null Count  Dtype  \n",
      "---  ------      --------------  -----  \n",
      " 0   Unnamed: 0  200 non-null    int64  \n",
      " 1   TV          200 non-null    float64\n",
      " 2   Radio       200 non-null    float64\n",
      " 3   Newspaper   200 non-null    float64\n",
      " 4   Sales       200 non-null    float64\n",
      "dtypes: float64(4), int64(1)\n",
      "memory usage: 7.9 KB\n"
     ]
    }
   ],
   "source": [
    "advertising_data.info()"
   ]
  },
  {
   "cell_type": "code",
   "execution_count": 5,
   "id": "326f4d42",
   "metadata": {},
   "outputs": [
    {
     "data": {
      "text/plain": [
       "Index(['Unnamed: 0', 'TV', 'Radio', 'Newspaper', 'Sales'], dtype='object')"
      ]
     },
     "execution_count": 5,
     "metadata": {},
     "output_type": "execute_result"
    }
   ],
   "source": [
    "advertising_data.columns"
   ]
  },
  {
   "cell_type": "markdown",
   "id": "190c3dd7",
   "metadata": {},
   "source": [
    "- This data consists of the same amount was spent for the three advertisements (TV , Radio and Newspaper) and the corresponding sales.\n",
    "- There are 3 independent variables(TV , Radio and Newspaper) and one dependent variable(sales.)"
   ]
  },
  {
   "cell_type": "markdown",
   "id": "def82c10",
   "metadata": {},
   "source": [
    "###### 2. Check the summary statistics and discuss the max, min, avg, median,and percentiles."
   ]
  },
  {
   "cell_type": "code",
   "execution_count": 6,
   "id": "ee7b5b22",
   "metadata": {},
   "outputs": [
    {
     "data": {
      "text/html": [
       "<div>\n",
       "<style scoped>\n",
       "    .dataframe tbody tr th:only-of-type {\n",
       "        vertical-align: middle;\n",
       "    }\n",
       "\n",
       "    .dataframe tbody tr th {\n",
       "        vertical-align: top;\n",
       "    }\n",
       "\n",
       "    .dataframe thead th {\n",
       "        text-align: right;\n",
       "    }\n",
       "</style>\n",
       "<table border=\"1\" class=\"dataframe\">\n",
       "  <thead>\n",
       "    <tr style=\"text-align: right;\">\n",
       "      <th></th>\n",
       "      <th>TV</th>\n",
       "      <th>Radio</th>\n",
       "      <th>Newspaper</th>\n",
       "      <th>Sales</th>\n",
       "    </tr>\n",
       "  </thead>\n",
       "  <tbody>\n",
       "    <tr>\n",
       "      <th>count</th>\n",
       "      <td>200.000000</td>\n",
       "      <td>200.000000</td>\n",
       "      <td>200.000000</td>\n",
       "      <td>200.000000</td>\n",
       "    </tr>\n",
       "    <tr>\n",
       "      <th>mean</th>\n",
       "      <td>147.042500</td>\n",
       "      <td>23.264000</td>\n",
       "      <td>30.554000</td>\n",
       "      <td>14.022500</td>\n",
       "    </tr>\n",
       "    <tr>\n",
       "      <th>std</th>\n",
       "      <td>85.854236</td>\n",
       "      <td>14.846809</td>\n",
       "      <td>21.778621</td>\n",
       "      <td>5.217457</td>\n",
       "    </tr>\n",
       "    <tr>\n",
       "      <th>min</th>\n",
       "      <td>0.700000</td>\n",
       "      <td>0.000000</td>\n",
       "      <td>0.300000</td>\n",
       "      <td>1.600000</td>\n",
       "    </tr>\n",
       "    <tr>\n",
       "      <th>25%</th>\n",
       "      <td>74.375000</td>\n",
       "      <td>9.975000</td>\n",
       "      <td>12.750000</td>\n",
       "      <td>10.375000</td>\n",
       "    </tr>\n",
       "    <tr>\n",
       "      <th>50%</th>\n",
       "      <td>149.750000</td>\n",
       "      <td>22.900000</td>\n",
       "      <td>25.750000</td>\n",
       "      <td>12.900000</td>\n",
       "    </tr>\n",
       "    <tr>\n",
       "      <th>75%</th>\n",
       "      <td>218.825000</td>\n",
       "      <td>36.525000</td>\n",
       "      <td>45.100000</td>\n",
       "      <td>17.400000</td>\n",
       "    </tr>\n",
       "    <tr>\n",
       "      <th>max</th>\n",
       "      <td>296.400000</td>\n",
       "      <td>49.600000</td>\n",
       "      <td>114.000000</td>\n",
       "      <td>27.000000</td>\n",
       "    </tr>\n",
       "  </tbody>\n",
       "</table>\n",
       "</div>"
      ],
      "text/plain": [
       "               TV       Radio   Newspaper       Sales\n",
       "count  200.000000  200.000000  200.000000  200.000000\n",
       "mean   147.042500   23.264000   30.554000   14.022500\n",
       "std     85.854236   14.846809   21.778621    5.217457\n",
       "min      0.700000    0.000000    0.300000    1.600000\n",
       "25%     74.375000    9.975000   12.750000   10.375000\n",
       "50%    149.750000   22.900000   25.750000   12.900000\n",
       "75%    218.825000   36.525000   45.100000   17.400000\n",
       "max    296.400000   49.600000  114.000000   27.000000"
      ]
     },
     "execution_count": 6,
     "metadata": {},
     "output_type": "execute_result"
    }
   ],
   "source": [
    "#Dropping the Unnamed Column in Pandas using drop() method\n",
    "data=advertising_data.drop(\"Unnamed: 0\",axis=1)\n",
    "\n",
    "#descibe( )function\n",
    "data.describe()"
   ]
  },
  {
   "cell_type": "markdown",
   "id": "9febde46",
   "metadata": {},
   "source": [
    "*Boxplot"
   ]
  },
  {
   "cell_type": "code",
   "execution_count": 42,
   "id": "807fc435",
   "metadata": {},
   "outputs": [
    {
     "data": {
      "text/plain": [
       "Text(0.5, 1.0, 'Box-plot of advertising data')"
      ]
     },
     "execution_count": 42,
     "metadata": {},
     "output_type": "execute_result"
    },
    {
     "data": {
      "image/png": "[encoded data removed]",
      "text/plain": [
       "<Figure size 432x288 with 1 Axes>"
      ]
     },
     "metadata": {
      "needs_background": "light"
     },
     "output_type": "display_data"
    }
   ],
   "source": [
    "labels=['TV', 'Radio', 'Newspaper', 'Sales']\n",
    "plt.boxplot(x=data,labels=labels,patch_artist=True)\n",
    "\n",
    "plt.title('Box-plot of advertising data')"
   ]
  },
  {
   "cell_type": "markdown",
   "id": "73e152a0",
   "metadata": {},
   "source": [
    "###### 3. The manager wants to find out whether the same amount was spent for the three advertisements (TV , Radio and Newspaper). Comment on your findings."
   ]
  },
  {
   "cell_type": "markdown",
   "id": "b65e36b4",
   "metadata": {},
   "source": [
    "-Independent variables are amount spent for advertisemnets on 'TV', 'Radio', 'Newspaper'.\n",
    "-As we are having 3 independent variables and to compare the mean of them , consider one-way ANOVA.\n",
    "* Null Hypothesis-The mean of the amount spent for advertisemnets on 'TV', 'Radio', 'Newspaper' are equal.\n",
    "* Alternate Hypothesis -The mean is not equal. \n"
   ]
  },
  {
   "cell_type": "code",
   "execution_count": 39,
   "id": "bd315dc9",
   "metadata": {},
   "outputs": [
    {
     "name": "stdout",
     "output_type": "stream",
     "text": [
      "F-statistic= 358.851\n",
      "p-value= 0.0\n"
     ]
    }
   ],
   "source": [
    "#One-way ANOVA can be performed by scipy.stats.f_oneway function in scipy\n",
    "\n",
    "import scipy.stats as stats\n",
    "f,p=stats.f_oneway(data['TV'],data['Radio'],data['Newspaper'])\n",
    "\n",
    "print('F-statistic=',round(f,3))\n",
    "print('p-value=',round(p,3))"
   ]
  },
  {
   "cell_type": "code",
   "execution_count": 37,
   "id": "28f88128",
   "metadata": {},
   "outputs": [
    {
     "name": "stdout",
     "output_type": "stream",
     "text": [
      "Reject null Hypothesis.\n"
     ]
    }
   ],
   "source": [
    "if p<0.05:\n",
    "    print('Reject null Hypothesis.')\n",
    "else:\n",
    "    print('Accept null hypothesis.')\n"
   ]
  },
  {
   "cell_type": "markdown",
   "id": "eaa1ff8b",
   "metadata": {},
   "source": [
    "The mean of the amount spent for advertisemnets on 'TV', 'Radio', 'Newspaper' are not equal."
   ]
  }
 ],
 "metadata": {
  "kernelspec": {
   "display_name": "Python 3",
   "language": "python",
   "name": "python3"
  },
  "language_info": {
   "codemirror_mode": {
    "name": "ipython",
    "version": 3
   },
   "file_extension": ".py",
   "mimetype": "text/x-python",
   "name": "python",
   "nbconvert_exporter": "python",
   "pygments_lexer": "ipython3",
   "version": "3.8.8"
  }
 },
 "nbformat": 4,
 "nbformat_minor": 5
}
